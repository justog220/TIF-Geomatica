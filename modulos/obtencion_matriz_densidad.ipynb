{
 "cells": [
  {
   "cell_type": "code",
   "execution_count": 3,
   "metadata": {},
   "outputs": [
    {
     "ename": "IndexError",
     "evalue": "index 24509 is out of bounds for axis 0 with size 149",
     "output_type": "error",
     "traceback": [
      "\u001b[0;31m---------------------------------------------------------------------------\u001b[0m",
      "\u001b[0;31mIndexError\u001b[0m                                Traceback (most recent call last)",
      "Cell \u001b[0;32mIn[3], line 34\u001b[0m\n\u001b[1;32m     32\u001b[0m     x_idx \u001b[38;5;241m=\u001b[39m \u001b[38;5;28mint\u001b[39m((row[\u001b[38;5;124m'\u001b[39m\u001b[38;5;124my\u001b[39m\u001b[38;5;124m'\u001b[39m] \u001b[38;5;241m-\u001b[39m resolution[\u001b[38;5;241m0\u001b[39m] \u001b[38;5;241m/\u001b[39m \u001b[38;5;241m2\u001b[39m) \u001b[38;5;241m/\u001b[39m resolution[\u001b[38;5;241m0\u001b[39m])\n\u001b[1;32m     33\u001b[0m     y_idx \u001b[38;5;241m=\u001b[39m \u001b[38;5;28mint\u001b[39m((row[\u001b[38;5;124m'\u001b[39m\u001b[38;5;124mx\u001b[39m\u001b[38;5;124m'\u001b[39m] \u001b[38;5;241m-\u001b[39m resolution[\u001b[38;5;241m1\u001b[39m] \u001b[38;5;241m/\u001b[39m \u001b[38;5;241m2\u001b[39m) \u001b[38;5;241m/\u001b[39m resolution[\u001b[38;5;241m1\u001b[39m])\n\u001b[0;32m---> 34\u001b[0m     density_matrix[y_idx, x_idx] \u001b[38;5;241m+\u001b[39m\u001b[38;5;241m=\u001b[39m row[\u001b[38;5;124m'\u001b[39m\u001b[38;5;124mnro_huevos\u001b[39m\u001b[38;5;124m'\u001b[39m]\n\u001b[1;32m     36\u001b[0m \u001b[38;5;66;03m# Ahora `density_matrix` contiene la matriz de densidad de huevos con las dimensiones y resolución del TIF\u001b[39;00m\n\u001b[1;32m     37\u001b[0m \n\u001b[1;32m     38\u001b[0m \u001b[38;5;66;03m# Puedes guardar `density_matrix` en un archivo si lo necesitas\u001b[39;00m\n\u001b[1;32m     39\u001b[0m np\u001b[38;5;241m.\u001b[39msavetxt(\u001b[38;5;124m'\u001b[39m\u001b[38;5;124mmatriz_densidad_huevos.csv\u001b[39m\u001b[38;5;124m'\u001b[39m, density_matrix, delimiter\u001b[38;5;241m=\u001b[39m\u001b[38;5;124m'\u001b[39m\u001b[38;5;124m,\u001b[39m\u001b[38;5;124m'\u001b[39m)\n",
      "\u001b[0;31mIndexError\u001b[0m: index 24509 is out of bounds for axis 0 with size 149"
     ]
    }
   ],
   "source": [
    "import rasterio\n",
    "import numpy as np\n",
    "import pandas as pd\n",
    "import subprocess\n",
    "# Función para obtener las dimensiones y la resolución desde la imagen TIF\n",
    "def obtener_dimensiones_y_resolucion(raster_file):\n",
    "    with rasterio.open(raster_file) as src:\n",
    "        # Obtener los límites de la imagen\n",
    "        bounds = src.bounds\n",
    "        # Obtener la resolución en x e y\n",
    "        res = src.res\n",
    "        # Calcular las dimensiones en base a los límites y la resolución\n",
    "        width = int((bounds.right - bounds.left) / res[0])\n",
    "        height = int((bounds.top - bounds.bottom) / res[1])\n",
    "    return width, height, res\n",
    "\n",
    "# Archivo TIF de tu área de interés\n",
    "archivo_tif = subprocess.run(f\"ls ../ImagenesRecortadas/*B4.TIF\", shell=True, stdout=subprocess.PIPE, stderr=subprocess.PIPE, text=True).stdout.strip(\"\\n\")\n",
    "\n",
    "# Obtener dimensiones y resolución del TIF\n",
    "width, height, resolution = obtener_dimensiones_y_resolucion(archivo_tif)\n",
    "\n",
    "# Cargar los datos desde el archivo CSV\n",
    "datos = pd.read_csv('data_filtrada.csv')\n",
    "\n",
    "# Crear la matriz de densidad de huevos\n",
    "density_matrix = np.zeros((height, width))\n",
    "\n",
    "# Llenar la matriz con los datos de las ovitrampas\n",
    "for index, row in datos.iterrows():\n",
    "    # Convertir coordenadas a índices de matriz\n",
    "    x_idx = int((row['x'] - resolution[0] / 2) / resolution[0])\n",
    "    y_idx = int((row['y'] - resolution[1] / 2) / resolution[1])\n",
    "    density_matrix[y_idx, x_idx] += row['nro_huevos']\n",
    "\n",
    "# Ahora `density_matrix` contiene la matriz de densidad de huevos con las dimensiones y resolución del TIF\n",
    "\n",
    "# Puedes guardar `density_matrix` en un archivo si lo necesitas\n",
    "np.savetxt('matriz_densidad_huevos.csv', density_matrix, delimiter=',')\n",
    "\n",
    "# O también puedes visualizar o procesar más los datos según tus necesidades\n"
   ]
  },
  {
   "cell_type": "code",
   "execution_count": 5,
   "metadata": {},
   "outputs": [
    {
     "ename": "IndexError",
     "evalue": "index -117470 is out of bounds for axis 0 with size 149",
     "output_type": "error",
     "traceback": [
      "\u001b[0;31m---------------------------------------------------------------------------\u001b[0m",
      "\u001b[0;31mIndexError\u001b[0m                                Traceback (most recent call last)",
      "Cell \u001b[0;32mIn[5], line 28\u001b[0m\n\u001b[1;32m     23\u001b[0m \u001b[38;5;28;01mfor\u001b[39;00m index, row \u001b[38;5;129;01min\u001b[39;00m datos\u001b[38;5;241m.\u001b[39miterrows():\n\u001b[1;32m     24\u001b[0m     \u001b[38;5;66;03m# Convertir coordenadas CRS 32620 a índices de matriz\u001b[39;00m\n\u001b[1;32m     25\u001b[0m     x_idx, y_idx \u001b[38;5;241m=\u001b[39m crs_to_indices(row[\u001b[38;5;124m'\u001b[39m\u001b[38;5;124mx\u001b[39m\u001b[38;5;124m'\u001b[39m], row[\u001b[38;5;124m'\u001b[39m\u001b[38;5;124my\u001b[39m\u001b[38;5;124m'\u001b[39m])\n\u001b[0;32m---> 28\u001b[0m     density_matrix[y_idx, x_idx] \u001b[38;5;241m+\u001b[39m\u001b[38;5;241m=\u001b[39m row[\u001b[38;5;124m'\u001b[39m\u001b[38;5;124mnro_huevos\u001b[39m\u001b[38;5;124m'\u001b[39m]\n\u001b[1;32m     30\u001b[0m \u001b[38;5;66;03m# Ahora `density_matrix` contiene la matriz de densidad de huevos con las dimensiones y resolución del TIF\u001b[39;00m\n\u001b[1;32m     31\u001b[0m \n\u001b[1;32m     32\u001b[0m \u001b[38;5;66;03m# Puedes guardar `density_matrix` en un archivo si lo necesitas\u001b[39;00m\n\u001b[1;32m     33\u001b[0m np\u001b[38;5;241m.\u001b[39msavetxt(\u001b[38;5;124m'\u001b[39m\u001b[38;5;124mmatriz_densidad_huevos.csv\u001b[39m\u001b[38;5;124m'\u001b[39m, density_matrix, delimiter\u001b[38;5;241m=\u001b[39m\u001b[38;5;124m'\u001b[39m\u001b[38;5;124m,\u001b[39m\u001b[38;5;124m'\u001b[39m)\n",
      "\u001b[0;31mIndexError\u001b[0m: index -117470 is out of bounds for axis 0 with size 149"
     ]
    }
   ],
   "source": [
    "import numpy as np\n",
    "import pandas as pd\n",
    "\n",
    "# Dimensiones y resolución del TIF\n",
    "width = 148\n",
    "height = 149\n",
    "resolution = (30.0, 30.0)  # Resolución en metros por píxel (x, y)\n",
    "\n",
    "# Función para convertir coordenadas CRS 32620 a índices de matriz\n",
    "def crs_to_indices(x_crs, y_crs):\n",
    "    # Calcular los índices de matriz a partir de las coordenadas CRS 32620\n",
    "    x_idx = int((x_crs - resolution[0] / 2) / resolution[0])\n",
    "    y_idx = int((y_crs - resolution[1] / 2) / resolution[1])\n",
    "    return x_idx, y_idx\n",
    "\n",
    "# Cargar los datos desde el archivo CSV\n",
    "datos = pd.read_csv('data_filtrada.csv')\n",
    "\n",
    "# Crear la matriz de densidad de huevos\n",
    "density_matrix = np.zeros((height, width))\n",
    "\n",
    "# Llenar la matriz con los datos de las ovitrampas\n",
    "for index, row in datos.iterrows():\n",
    "    # Convertir coordenadas CRS 32620 a índices de matriz\n",
    "    x_idx, y_idx = crs_to_indices(row['x'], row['y'])\n",
    "    \n",
    "\n",
    "    density_matrix[y_idx, x_idx] += row['nro_huevos']\n",
    "\n",
    "# Ahora `density_matrix` contiene la matriz de densidad de huevos con las dimensiones y resolución del TIF\n",
    "\n",
    "# Puedes guardar `density_matrix` en un archivo si lo necesitas\n",
    "np.savetxt('matriz_densidad_huevos.csv', density_matrix, delimiter=',')\n",
    "\n",
    "# O también puedes visualizar o procesar más los datos según tus necesidades\n"
   ]
  },
  {
   "cell_type": "code",
   "execution_count": 2,
   "metadata": {},
   "outputs": [
    {
     "data": {
      "text/plain": [
       "(148, 149, (30.0, 30.0))"
      ]
     },
     "execution_count": 2,
     "metadata": {},
     "output_type": "execute_result"
    }
   ],
   "source": [
    "obtener_dimensiones_y_resolucion(archivo_tif)"
   ]
  },
  {
   "cell_type": "code",
   "execution_count": null,
   "metadata": {},
   "outputs": [],
   "source": []
  }
 ],
 "metadata": {
  "kernelspec": {
   "display_name": "Python 3",
   "language": "python",
   "name": "python3"
  },
  "language_info": {
   "codemirror_mode": {
    "name": "ipython",
    "version": 3
   },
   "file_extension": ".py",
   "mimetype": "text/x-python",
   "name": "python",
   "nbconvert_exporter": "python",
   "pygments_lexer": "ipython3",
   "version": "3.10.12"
  }
 },
 "nbformat": 4,
 "nbformat_minor": 2
}
