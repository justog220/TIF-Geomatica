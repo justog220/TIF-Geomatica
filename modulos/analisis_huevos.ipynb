{
 "cells": [
  {
   "cell_type": "code",
   "execution_count": 1,
   "metadata": {},
   "outputs": [
    {
     "name": "stdout",
     "output_type": "stream",
     "text": [
      "La fecha con el mayor número de huevos es 14/02/2018 con 176 huevos.\n"
     ]
    }
   ],
   "source": [
    "import pandas as pd\n",
    "\n",
    "# Cargar el archivo CSV\n",
    "data = pd.read_csv('../data/datos_ovitrampas.csv')\n",
    "\n",
    "# Sumar el número de huevos por fecha\n",
    "sum_by_date = data.groupby('fecha')['nro_huevos'].sum()\n",
    "\n",
    "# Encontrar la fecha con el mayor número de huevos\n",
    "max_eggs_date = sum_by_date.idxmax()\n",
    "max_eggs_count = sum_by_date.max()\n",
    "\n",
    "print(f\"La fecha con el mayor número de huevos es {max_eggs_date} con {max_eggs_count} huevos.\")"
   ]
  },
  {
   "cell_type": "code",
   "execution_count": 2,
   "metadata": {},
   "outputs": [
    {
     "name": "stderr",
     "output_type": "stream",
     "text": [
      "/usr/lib/python3/dist-packages/pyproj/crs/crs.py:131: FutureWarning: '+init=<authority>:<code>' syntax is deprecated. '<authority>:<code>' is the preferred initialization method. When making the change, be mindful of axis order changes: https://pyproj4.github.io/pyproj/stable/gotchas.html#axis-order-changes-in-proj-6\n",
      "  in_crs_string = _prepare_from_proj_string(in_crs_string)\n",
      "/usr/lib/python3/dist-packages/pyproj/crs/crs.py:131: FutureWarning: '+init=<authority>:<code>' syntax is deprecated. '<authority>:<code>' is the preferred initialization method. When making the change, be mindful of axis order changes: https://pyproj4.github.io/pyproj/stable/gotchas.html#axis-order-changes-in-proj-6\n",
      "  in_crs_string = _prepare_from_proj_string(in_crs_string)\n",
      "/tmp/ipykernel_7656/1950685598.py:17: DeprecationWarning: This function is deprecated. See: https://pyproj4.github.io/pyproj/stable/gotchas.html#upgrading-to-pyproj-2-from-pyproj-1\n",
      "  x, y = transform(projector, transformer, row['long'], row['lat'])\n"
     ]
    }
   ],
   "source": [
    "import pandas as pd\n",
    "from pyproj import Proj, transform\n",
    "\n",
    "# Load the data from the CSV file\n",
    "data = pd.read_csv('../data/datos_ovitrampas.csv')\n",
    "\n",
    "# Define the input and output projections\n",
    "input_crs = 'EPSG:4326'  # WGS84\n",
    "output_crs = 'EPSG:32620'  # UTM zone 20N\n",
    "\n",
    "# Define the transformation function\n",
    "projector = Proj(init=input_crs)\n",
    "transformer = Proj(init=output_crs)\n",
    "\n",
    "# Function to transform coordinates from input_crs to output_crs\n",
    "def transform_coordinates(row):\n",
    "    x, y = transform(projector, transformer, row['long'], row['lat'])\n",
    "    return pd.Series({'x': x, 'y': y})\n",
    "\n",
    "# Apply the transformation to each row in the DataFrame\n",
    "data[['x', 'y']] = data.apply(transform_coordinates, axis=1)\n",
    "\n",
    "\n",
    "# También puedes guardar tu DataFrame modificado con las nuevas coordenadas en un CSV u otro formato si lo necesitas\n",
    "data.to_csv('../data/datos_ovitrampas_transformados.csv', index=False)\n"
   ]
  },
  {
   "cell_type": "code",
   "execution_count": null,
   "metadata": {},
   "outputs": [],
   "source": []
  }
 ],
 "metadata": {
  "kernelspec": {
   "display_name": "Python 3",
   "language": "python",
   "name": "python3"
  },
  "language_info": {
   "codemirror_mode": {
    "name": "ipython",
    "version": 3
   },
   "file_extension": ".py",
   "mimetype": "text/x-python",
   "name": "python",
   "nbconvert_exporter": "python",
   "pygments_lexer": "ipython3",
   "version": "3.10.12"
  }
 },
 "nbformat": 4,
 "nbformat_minor": 2
}
