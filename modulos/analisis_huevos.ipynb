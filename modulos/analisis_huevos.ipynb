{
 "cells": [
  {
   "cell_type": "code",
   "execution_count": 2,
   "metadata": {},
   "outputs": [
    {
     "name": "stdout",
     "output_type": "stream",
     "text": [
      "La fecha con el mayor número de huevos es 14/02/2018 con 176 huevos.\n"
     ]
    }
   ],
   "source": [
    "import pandas as pd\n",
    "\n",
    "# Cargar el archivo CSV\n",
    "data = pd.read_csv('../data/datos_ovitrampas.csv')\n",
    "\n",
    "# Sumar el número de huevos por fecha\n",
    "sum_by_date = data.groupby('fecha')['nro_huevos'].sum()\n",
    "\n",
    "# Encontrar la fecha con el mayor número de huevos\n",
    "max_eggs_date = sum_by_date.idxmax()\n",
    "max_eggs_count = sum_by_date.max()\n",
    "\n",
    "print(f\"La fecha con el mayor número de huevos es {max_eggs_date} con {max_eggs_count} huevos.\")"
   ]
  },
  {
   "cell_type": "code",
   "execution_count": 3,
   "metadata": {},
   "outputs": [
    {
     "name": "stderr",
     "output_type": "stream",
     "text": [
      "/usr/lib/python3/dist-packages/pyproj/crs/crs.py:131: FutureWarning: '+init=<authority>:<code>' syntax is deprecated. '<authority>:<code>' is the preferred initialization method. When making the change, be mindful of axis order changes: https://pyproj4.github.io/pyproj/stable/gotchas.html#axis-order-changes-in-proj-6\n",
      "  in_crs_string = _prepare_from_proj_string(in_crs_string)\n",
      "/usr/lib/python3/dist-packages/pyproj/crs/crs.py:131: FutureWarning: '+init=<authority>:<code>' syntax is deprecated. '<authority>:<code>' is the preferred initialization method. When making the change, be mindful of axis order changes: https://pyproj4.github.io/pyproj/stable/gotchas.html#axis-order-changes-in-proj-6\n",
      "  in_crs_string = _prepare_from_proj_string(in_crs_string)\n",
      "/tmp/ipykernel_48200/2620312356.py:30: DeprecationWarning: This function is deprecated. See: https://pyproj4.github.io/pyproj/stable/gotchas.html#upgrading-to-pyproj-2-from-pyproj-1\n",
      "  x, y = transform(crs_4326, crs_32620, lon, lat)\n"
     ]
    },
    {
     "name": "stdout",
     "output_type": "stream",
     "text": [
      "Se han transformado las coordenadas y guardado en ../data/datos_ovitrampas_transformados.csv\n"
     ]
    }
   ],
   "source": [
    "import csv\n",
    "from pyproj import Proj, transform\n",
    "import pandas as pd\n",
    "\n",
    "# Definir los sistemas de referencia de entrada y salida\n",
    "crs_4326 = Proj(init='epsg:4326')  # WGS84\n",
    "crs_32620 = Proj(init='epsg:32620')  # WGS 84 / UTM zone 20S\n",
    "\n",
    "# Archivos de entrada y salida\n",
    "input_file = '../data/datos_ovitrampas.csv'\n",
    "output_file = '../data/datos_ovitrampas_transformados.csv'\n",
    "\n",
    "with open(input_file, 'r', newline='', encoding='utf-8') as csvfile, \\\n",
    "     open(output_file, 'w', newline='', encoding='utf-8') as outfile:\n",
    "\n",
    "    reader = csv.reader(csvfile)\n",
    "    writer = csv.writer(outfile)\n",
    "\n",
    "    # Escribir la cabecera en el archivo de salida\n",
    "    header = next(reader)\n",
    "    writer.writerow(header)\n",
    "\n",
    "    for row in reader:\n",
    "        fecha = row[0]\n",
    "        lon = float(row[1])\n",
    "        lat = float(row[2])\n",
    "        nro_huevos = int(row[3])\n",
    "        \n",
    "        # Transformar coordenadas de EPSG:4326 a EPSG:32620\n",
    "        x, y = transform(crs_4326, crs_32620, lon, lat)\n",
    "\n",
    "        # Escribir la fila transformada en el archivo de salida\n",
    "        transformed_row = [fecha, y, x, nro_huevos]  # Cambiar orden de latitud y longitud\n",
    "        writer.writerow(transformed_row)\n",
    "\n",
    "print(f'Se han transformado las coordenadas y guardado en {output_file}')"
   ]
  },
  {
   "cell_type": "code",
   "execution_count": null,
   "metadata": {},
   "outputs": [],
   "source": []
  }
 ],
 "metadata": {
  "kernelspec": {
   "display_name": "Python 3",
   "language": "python",
   "name": "python3"
  },
  "language_info": {
   "codemirror_mode": {
    "name": "ipython",
    "version": 3
   },
   "file_extension": ".py",
   "mimetype": "text/x-python",
   "name": "python",
   "nbconvert_exporter": "python",
   "pygments_lexer": "ipython3",
   "version": "3.10.12"
  }
 },
 "nbformat": 4,
 "nbformat_minor": 2
}
